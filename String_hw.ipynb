{
 "cells": [
  {
   "cell_type": "code",
   "execution_count": 13,
   "id": "a430bc4f-2b1d-4108-84d3-6a0bfd26d101",
   "metadata": {
    "tags": []
   },
   "outputs": [
    {
     "name": "stdout",
     "output_type": "stream",
     "text": [
      "Usernames:\n",
      "benedil\n",
      "mathisa\n",
      "gary ws\n",
      "Usernames and Passwords:\n",
      "Linus: Liiu1969\n",
      "Alan: Alln5346\n",
      "Stephan: Sttpa3720\n"
     ]
    }
   ],
   "source": [
    "# This section is to store the initial names and phone number values\n",
    "\n",
    "student_1 = \"Linus Benedict-Torvalds\"\n",
    "student_2 = \"Alan Mathison-Turing\"\n",
    "student_3 = \"Stephan Gary-Wozniak\"\n",
    "student_4 = \"Adele Tom-Goldberg\"\n",
    "\n",
    "number_1 = 3175551969\n",
    "number_2 = 3175555346\n",
    "number_3 = 3175553720\n",
    "number_4 = 3175552345\n",
    "\n",
    "# This section is designed to separate the names after they are entered into the string\n",
    "\n",
    "def split_names(full_name):\n",
    "    split_name = full_name.split(\" \")\n",
    "    if \"-\" in split_name[-1]:\n",
    "        last_name_parts = split_name[-1].split(\"-\")\n",
    "        first_name = split_name[0]\n",
    "        middle_name = \" \".join(split_name[1:-1])\n",
    "        last_name = \" \".join(last_name_parts)\n",
    "    else:\n",
    "        first_name = split_name[0]\n",
    "        middle_name = \" \".join(split_name[1:-1])\n",
    "        last_name = split_name[-1]\n",
    "    return first_name, middle_name, last_name\n",
    "\n",
    "# This section is to generate the username from each of the strings\n",
    "\n",
    "def generate_username(first_name, middle_name, last_name):\n",
    "    username = last_name[:6] + first_name[:1] + middle_name[:1]\n",
    "    return username.lower()\n",
    "\n",
    "username_1 = generate_username(*split_names(student_1))\n",
    "username_2 = generate_username(*split_names(student_2))\n",
    "username_3 = generate_username(*split_names(student_3))\n",
    "\n",
    "print(\"Usernames:\")\n",
    "print(username_1)\n",
    "print(username_2)\n",
    "print(username_3)\n",
    "\n",
    "# This section is to generate the passwords from the given string\n",
    "\n",
    "\n",
    "def generate_password(first_name, middle_name, parent_phone_number):\n",
    "    password = first_name[:2] + middle_name[1::2][:3] + str(parent_phone_number)[-4:]\n",
    "    return password\n",
    "\n",
    "# examples \n",
    "username_1, _, _ = split_names(student_1)\n",
    "password_1 = generate_password(student_1, username_1, number_1)\n",
    "\n",
    "username_2, _, _ = split_names(student_2)\n",
    "password_2 = generate_password(student_2, username_2, number_2)\n",
    "\n",
    "username_3, _, _ = split_names(student_3)\n",
    "password_3 = generate_password(student_3, username_3, number_3)\n",
    "\n",
    "print(\"Usernames and Passwords:\")\n",
    "print(f\"{username_1}: {password_1}\")\n",
    "print(f\"{username_2}: {password_2}\")\n",
    "print(f\"{username_3}: {password_3}\")\n"
   ]
  },
  {
   "cell_type": "code",
   "execution_count": 5,
   "id": "c10f056b-0873-420a-a03a-211f7ebb53b8",
   "metadata": {
    "tags": []
   },
   "outputs": [
    {
     "name": "stdout",
     "output_type": "stream",
     "text": [
      "Pig Latin words:\n",
      "implesay\n",
      "iendsfray\n",
      "meletoay\n",
      "onsiay\n"
     ]
    }
   ],
   "source": [
    "\n",
    "def pig_latin(word):\n",
    "    vowels = \"aeiou\"\n",
    "\n",
    "    # Check if the first letter is a vowel\n",
    "    if word[0].lower() in vowels:\n",
    "        pig_latin_word = word[1:] + word[0] + \"ay\"\n",
    "    else:\n",
    "        \n",
    "        first_vowel_index = next((i for i, char in enumerate(word) if char.lower() in vowels), None)\n",
    "\n",
    "        if first_vowel_index is not None:\n",
    "            pig_latin_word = word[first_vowel_index:] + word[:first_vowel_index] + \"ay\"\n",
    "        else:\n",
    "            # If there are no vowels, treat the word as a single letter\n",
    "            pig_latin_word = word + \"ay\"\n",
    "\n",
    "    return pig_latin_word.lower()\n",
    "\n",
    "# examples\n",
    "word_1 = \"simple\"\n",
    "word_2 = \"friends\"\n",
    "word_3 = \"omelet\"\n",
    "word_4 = \"ions\"\n",
    "\n",
    "print(\"Pig Latin words:\")\n",
    "print(pig_latin(word_1))\n",
    "print(pig_latin(word_2))\n",
    "print(pig_latin(word_3))\n",
    "print(pig_latin(word_4))"
   ]
  },
  {
   "cell_type": "code",
   "execution_count": null,
   "id": "f250c012-05f8-4a21-80bf-6e6972e6dfb4",
   "metadata": {},
   "outputs": [],
   "source": []
  }
 ],
 "metadata": {
  "kernelspec": {
   "display_name": "Python 3 (ipykernel)",
   "language": "python",
   "name": "python3"
  },
  "language_info": {
   "codemirror_mode": {
    "name": "ipython",
    "version": 3
   },
   "file_extension": ".py",
   "mimetype": "text/x-python",
   "name": "python",
   "nbconvert_exporter": "python",
   "pygments_lexer": "ipython3",
   "version": "3.11.5"
  }
 },
 "nbformat": 4,
 "nbformat_minor": 5
}
